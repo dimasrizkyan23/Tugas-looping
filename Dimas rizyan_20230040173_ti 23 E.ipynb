{
 "cells": [
  {
   "cell_type": "code",
   "execution_count": null,
   "id": "0c0fe1f9",
   "metadata": {},
   "outputs": [],
   "source": [
    "# for in range\n",
    "# print 1 - 10\n",
    "\n",
    "for in range (1,11):\n",
    "    print(1)\n",
    "    \n",
    "    1\n",
    "    2\n",
    "    3\n",
    "    4\n",
    "    5\n",
    "    6\n",
    "    7\n",
    "    8\n",
    "    9\n",
    "    10"
   ]
  },
  {
   "cell_type": "code",
   "execution_count": 4,
   "id": "fb88cbbb",
   "metadata": {},
   "outputs": [
    {
     "name": "stdout",
     "output_type": "stream",
     "text": [
      "10\n",
      "20\n",
      "30\n",
      "40\n",
      "50\n",
      "60\n",
      "70\n",
      "80\n",
      "90\n",
      "100\n"
     ]
    }
   ],
   "source": [
    "#print 10 20 30 40 50 --- 100\n",
    "for i in range (1,11):\n",
    "    print(i*10)\n",
    "    "
   ]
  },
  {
   "cell_type": "code",
   "execution_count": 6,
   "id": "f77fa267",
   "metadata": {},
   "outputs": [
    {
     "name": "stdout",
     "output_type": "stream",
     "text": [
      "10\n",
      "20\n",
      "30\n",
      "40\n",
      "50\n",
      "60\n",
      "70\n",
      "80\n",
      "90\n",
      "100\n"
     ]
    }
   ],
   "source": [
    "for i in range(10,110,10):\n",
    "    print(i)"
   ]
  },
  {
   "cell_type": "code",
   "execution_count": 7,
   "id": "500b1475",
   "metadata": {},
   "outputs": [
    {
     "name": "stdout",
     "output_type": "stream",
     "text": [
      "10\n",
      "9\n",
      "8\n",
      "7\n",
      "6\n",
      "5\n",
      "4\n",
      "3\n",
      "2\n",
      "1\n"
     ]
    }
   ],
   "source": [
    "# 10 9 8 7 --- 1\n",
    "\n",
    "for i in range (10,0,-1):\n",
    "    \n",
    "    print(i)"
   ]
  },
  {
   "cell_type": "code",
   "execution_count": 11,
   "id": "7f6ff2bc",
   "metadata": {},
   "outputs": [
    {
     "name": "stdout",
     "output_type": "stream",
     "text": [
      "1\n",
      "-2\n",
      "3\n",
      "-4\n",
      "5\n",
      "-6\n",
      "7\n",
      "-8\n",
      "9\n",
      "-10\n"
     ]
    }
   ],
   "source": [
    "# 1 -2 3 -4 5 -6 7 -8 9 -10\n",
    "sign =1\n",
    "for i in range (1,11):\n",
    "    print(i * sign)\n",
    "    sign *= -1"
   ]
  },
  {
   "cell_type": "code",
   "execution_count": 12,
   "id": "78b2dc8f",
   "metadata": {},
   "outputs": [
    {
     "name": "stdout",
     "output_type": "stream",
     "text": [
      "isikan bilangan5\n",
      "faktorial dari 5! adalah 120\n"
     ]
    }
   ],
   "source": [
    "#faktorial => input 4! = 4 * 3 * 2 * 1 = 24\n",
    " \n",
    "number = int(input('isikan bilangan'))\n",
    "\n",
    "result = 1\n",
    "for i in range(1, number+1):\n",
    "    result = result * i\n",
    "    \n",
    "print(f\"faktorial dari {number}! adalah {result}\")\n"
   ]
  },
  {
   "cell_type": "code",
   "execution_count": 15,
   "id": "f0f22c71",
   "metadata": {},
   "outputs": [
    {
     "name": "stdout",
     "output_type": "stream",
     "text": [
      "isikan bilangan5\n",
      "isikan bilangan7\n",
      "5 pangkat 7 = 5\n",
      "5 pangkat 7 = 25\n",
      "5 pangkat 7 = 125\n",
      "5 pangkat 7 = 625\n",
      "5 pangkat 7 = 3125\n",
      "5 pangkat 7 = 15625\n",
      "5 pangkat 7 = 78125\n"
     ]
    }
   ],
   "source": [
    "number = int(input('isikan bilangan'))\n",
    "pangkat = int(input('isikan bilangan'))\n",
    "\n",
    "result = 1\n",
    "for i in range(1, pangkat+1):\n",
    "    result*=number\n",
    "    print(f\"{number} pangkat {pangkat} = {result}\")\n",
    "    \n"
   ]
  },
  {
   "cell_type": "code",
   "execution_count": 18,
   "id": "82e98302",
   "metadata": {},
   "outputs": [
    {
     "name": "stdout",
     "output_type": "stream",
     "text": [
      "isikan bilangan5\n",
      " 5 adalah bilangan prima\n"
     ]
    }
   ],
   "source": [
    "#Cek bilangan prima\n",
    "#bil. prima adalah bilangan yang hanya habis  dibagi dengan bil itu\n",
    "#sendiri dan 1\n",
    "\n",
    "#bil.prima punya 2 faktor\n",
    "#jika number % i == 0 maka nilai faktor di increment(+1)\n",
    "#setelah selesai perulangan, jika faktor ==2 maka bilangan prima\n",
    "number = int(input('isikan bilangan'))\n",
    "faktor = 0\n",
    "for i in range(1, number+1):\n",
    "    sisa = number %1\n",
    "    if number % i == 0:\n",
    "        faktor =  faktor + 1\n",
    "        \n",
    "if faktor == 2:\n",
    "    print (f\" {number} adalah bilangan prima\")\n",
    "else: \n",
    "    print(f\"{number} adalah bilangan bukan prima\")"
   ]
  },
  {
   "cell_type": "code",
   "execution_count": 21,
   "id": "40088ceb",
   "metadata": {},
   "outputs": [
    {
     "name": "stdout",
     "output_type": "stream",
     "text": [
      "22\n",
      "0 u\n",
      "1 n\n",
      "2 i\n",
      "3 v\n",
      "4 e\n",
      "5 r\n",
      "6 s\n",
      "7 i\n",
      "8 t\n",
      "9 a\n",
      "10 s\n",
      "11  \n",
      "12 N\n",
      "13 u\n",
      "14 s\n",
      "15 a\n",
      "16  \n",
      "17 p\n",
      "18 u\n",
      "19 t\n",
      "20 r\n",
      "21 a\n"
     ]
    }
   ],
   "source": [
    "kampus = \"universitas Nusa putra\" # panjang = 22\n",
    "print(len(kampus))\n",
    "\n",
    "for i,huruf in enumerate(kampus):\n",
    "    print (i,huruf)"
   ]
  },
  {
   "cell_type": "code",
   "execution_count": 27,
   "id": "fe76b669",
   "metadata": {
    "scrolled": true
   },
   "outputs": [
    {
     "ename": "SyntaxError",
     "evalue": "invalid syntax (1865546751.py, line 12)",
     "output_type": "error",
     "traceback": [
      "\u001b[1;36m  Input \u001b[1;32mIn [27]\u001b[1;36m\u001b[0m\n\u001b[1;33m    for i in range(o,panjang)\u001b[0m\n\u001b[1;37m                             ^\u001b[0m\n\u001b[1;31mSyntaxError\u001b[0m\u001b[1;31m:\u001b[0m invalid syntax\n"
     ]
    }
   ],
   "source": [
    "#menghitung jumlah huruf vokal:\n",
    "\n",
    "kampus = \"universitas nusa putra\" #panjang2 22\n",
    "panjang = ien(kampus)\n",
    "\n",
    "vokal_a = 0\n",
    "vokal_i = 0\n",
    "vokal_u = 0\n",
    "vokal_e = 0\n",
    "vokal_o = 0\n",
    "\n",
    "for i in range(o,panjang)\n",
    "    if kampus[i]=='a':\n",
    "        vokal_a +=\n",
    "    elif kampus[1]=='i': \n",
    "        vokali_i +=1\n",
    "    elif kampus[i]=='u':\n",
    "        vokal_u+=1\n",
    "    elif kampus[i]=='o':\n",
    "        vokal_e+=1\n",
    "    elif kampus[i]=='o':\n",
    "        vokal_o+=1\n",
    "        \n",
    "        \n",
    "print(f\"jumlah huruf a:{vokal_a}\"\n",
    "print(f\"jumlah hurud i:{vokal_i}\"\n",
    "print(f\"jumlah huruf u:{vokal_u}\"\n",
    "print(f\"jumlah huruf e:{vokal_e}\"\n",
    "print(f\"jumlah huruf o:{vokal_0}\"\n",
    "print(f\"jumlah huruf vokal:{vokal_a + vokal_i + vokal_u + vokal_e + vokal_o }\")\n",
    "      \n",
    "        \n",
    "        \n",
    "        \n",
    "        \n",
    "        \n",
    "        "
   ]
  },
  {
   "cell_type": "code",
   "execution_count": null,
   "id": "2a72f989",
   "metadata": {},
   "outputs": [],
   "source": [
    "kalimat = input('isikan kalimat')\n",
    "panjang_kalimat = len(kalimat)\n",
    "\n",
    "    ispalindrome = True  \n",
    "for i in range(0, panjang_kalimat):\n",
    "    urut = kalimat[i]\n",
    "    kebalikan = kalimat[panjang_kalimat - i-1]\n",
    "    if urut != kebalikan:\n",
    "        isplaindrome = false\n",
    "        break\n",
    "        \n",
    "if isplaindrome==true:\n",
    "    print(f\"(kalimat) adalah palindrome\")\n",
    "else:\n",
    "    print(\"{kalimat} adalah bukan palindrome\")\n",
    "    ulang = input('apakah kamu ingin pulang:')\n",
    "    ulang = input('yauda ayo')"
   ]
  },
  {
   "cell_type": "code",
   "execution_count": null,
   "id": "24bd264c",
   "metadata": {},
   "outputs": [],
   "source": []
  }
 ],
 "metadata": {
  "kernelspec": {
   "display_name": "Python 3 (ipykernel)",
   "language": "python",
   "name": "python3"
  },
  "language_info": {
   "codemirror_mode": {
    "name": "ipython",
    "version": 3
   },
   "file_extension": ".py",
   "mimetype": "text/x-python",
   "name": "python",
   "nbconvert_exporter": "python",
   "pygments_lexer": "ipython3",
   "version": "3.9.12"
  }
 },
 "nbformat": 4,
 "nbformat_minor": 5
}
